{
 "cells": [
  {
   "cell_type": "markdown",
   "metadata": {},
   "source": [
    "### Projeto 02\n",
    "\n",
    "Passos:\n",
    "\n",
    "- Buscar as informações da ação automaticamente\n",
    "- Criar as análises solicitadas\n",
    "    - Cotação máxima, mínima\n",
    "    - Valor médio\n",
    "- Enviar um e-mail automaticamente para o gestor\n"
   ]
  },
  {
   "cell_type": "markdown",
   "metadata": {},
   "source": [
    "#### Buscar dados da ação automaticamente\n",
    "\n",
    "Bibliotecas: 'yfinance'"
   ]
  },
  {
   "cell_type": "code",
   "execution_count": null,
   "metadata": {},
   "outputs": [],
   "source": [
    "import yfinance as yf\n",
    "\n",
    "ticker = input(\"Digite o código da ação desejada: \")\n",
    "dados = yf.Ticker(ticker)\n",
    "\n",
    "data_inicial = input(\"Digite a data inicial ('aaaa-mm-dd'): \")\n",
    "data_final = input(\"Digite a data final ('aaaa-mm-dd'): \")\n",
    "\n",
    "tabela = dados.history(start=data_inicial, end=data_final)\n",
    "fechamento = tabela.Close\n",
    "fechamento"
   ]
  },
  {
   "cell_type": "markdown",
   "metadata": {},
   "source": [
    "#### Criar as análises solicitadas\n",
    "\n",
    "- Cotação máxima\n",
    "- Cotação mínima\n",
    "- Valor médio"
   ]
  },
  {
   "cell_type": "code",
   "execution_count": null,
   "metadata": {},
   "outputs": [],
   "source": [
    "maxima = round(fechamento.max(), 2)\n",
    "minima = round(fechamento.min(), 2)\n",
    "valor_medio = round(fechamento.mean(), 2)\n",
    "\n",
    "print(maxima)\n",
    "print(minima)\n",
    "print(valor_medio)\n"
   ]
  },
  {
   "cell_type": "markdown",
   "metadata": {},
   "source": [
    "#### Enviar o e-mail automaticamente\n",
    "\n",
    "- Abrir o navegador e ir para o gmail\n",
    "- Clicar no botão escrever\n",
    "- Digitar o e-mail destinatário e teclar TAB\n",
    "- Digitar o assunto do e-mail e teclar TAB\n",
    "- Digitar a mensagem\n",
    "- Clicar no botão enviar\n",
    "\n",
    "Bibliotecas: 'pyautogui', 'pyperclip' e 'webbrowser'"
   ]
  },
  {
   "cell_type": "code",
   "execution_count": null,
   "metadata": {},
   "outputs": [],
   "source": [
    "import pyautogui\n",
    "import pyperclip\n",
    "import webbrowser\n",
    "import time\n",
    "\n",
    "destinatario = \"marioluka88@gmail.com\"\n",
    "assunto = \"Análise da Ação\"\n",
    "mensagem = f\"\"\"\n",
    "    Prezado gestor, \n",
    "\n",
    "Seguem as análises da ação ${ticker}:\n",
    "\n",
    "Valor máximo: ${maxima}\n",
    "Valor mínimo: ${minima}\n",
    "Valor médio: ${valor_medio}\n",
    "\n",
    "Att.\n",
    "Mário Luka\n",
    "\"\"\"\n",
    "\n",
    "#Abrindo o gmail\n",
    "webbrowser.open(\"gmail.com\")\n",
    "\n",
    "#Clicando no botão escrever\n",
    "time.sleep(3)\n",
    "pyautogui.click(x=133, y=241)\n",
    "\n",
    "#Escrever o email destinatario\n",
    "pyautogui.PAUSE = 3\n",
    "pyperclip.copy(destinatario)\n",
    "pyautogui.hotkey(\"crtl\",\"v\")\n",
    "pyautogui.hotkey(\"tab\")\n",
    "\n",
    "#Escrevendo o assunto\n",
    "pyautogui.PAUSE = 3\n",
    "pyperclip.copy(assunto)\n",
    "pyautogui.hotkey(\"crtl\",\"v\")\n",
    "pyautogui.hotkey(\"tab\")\n",
    "\n",
    "#Escrevendo a mensagem e enviando\n",
    "pyautogui.PAUSE = 3\n",
    "pyperclip.copy(mensagem)\n",
    "pyautogui.hotkey(\"crtl\",\"v\")\n",
    "pyautogui.click(x=1114, y=950)\n",
    "\n",
    "\n"
   ]
  }
 ],
 "metadata": {
  "kernelspec": {
   "display_name": "Python 3",
   "language": "python",
   "name": "python3"
  },
  "language_info": {
   "codemirror_mode": {
    "name": "ipython",
    "version": 3
   },
   "file_extension": ".py",
   "mimetype": "text/x-python",
   "name": "python",
   "nbconvert_exporter": "python",
   "pygments_lexer": "ipython3",
   "version": "3.12.3"
  }
 },
 "nbformat": 4,
 "nbformat_minor": 2
}
